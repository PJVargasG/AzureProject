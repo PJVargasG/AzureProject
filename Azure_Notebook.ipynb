{
    "metadata": {
        "kernelspec": {
            "name": "SQL",
            "display_name": "SQL",
            "language": "sql"
        },
        "language_info": {
            "name": "sql",
            "version": ""
        }
    },
    "nbformat_minor": 2,
    "nbformat": 4,
    "cells": [
        {
            "cell_type": "code",
            "source": [
                "SELECT top 3 * from EV.dbo.PopulationEV"
            ],
            "metadata": {
                "azdata_cell_guid": "ae74d1e4-161a-4423-bae6-bc24bdc77584",
                "language": "sql"
            },
            "outputs": [
                {
                    "output_type": "display_data",
                    "data": {
                        "text/html": "(3 rows affected)"
                    },
                    "metadata": {}
                },
                {
                    "output_type": "display_data",
                    "data": {
                        "text/html": "Total execution time: 00:00:00.165"
                    },
                    "metadata": {}
                },
                {
                    "output_type": "execute_result",
                    "metadata": {},
                    "execution_count": 1,
                    "data": {
                        "application/vnd.dataresource+json": {
                            "schema": {
                                "fields": [
                                    {
                                        "name": "VIN10"
                                    },
                                    {
                                        "name": "County"
                                    },
                                    {
                                        "name": "City"
                                    },
                                    {
                                        "name": "State"
                                    },
                                    {
                                        "name": "PostalCode"
                                    },
                                    {
                                        "name": "ModelYear"
                                    },
                                    {
                                        "name": "Make"
                                    },
                                    {
                                        "name": "Model"
                                    },
                                    {
                                        "name": "EV_Type"
                                    },
                                    {
                                        "name": "CAFV_Eligibility"
                                    },
                                    {
                                        "name": "ElectricRange"
                                    },
                                    {
                                        "name": "BaseMSRP"
                                    },
                                    {
                                        "name": "LegislativeDistrict"
                                    },
                                    {
                                        "name": "DOL_VehicleID"
                                    },
                                    {
                                        "name": "Vehicle_Location"
                                    },
                                    {
                                        "name": "Electric_Utility"
                                    },
                                    {
                                        "name": "Census2020_Tract"
                                    }
                                ]
                            },
                            "data": [
                                {
                                    "VIN10": "5YJSA1E22K",
                                    "County": "King",
                                    "City": "Seattle",
                                    "State": "WA",
                                    "PostalCode": "98112",
                                    "ModelYear": "2019",
                                    "Make": "TESLA",
                                    "Model": "MODEL S",
                                    "EV_Type": "Battery Electric Vehicle (BEV)",
                                    "CAFV_Eligibility": "Clean Alternative Fuel Vehicle Eligible",
                                    "ElectricRange": "270",
                                    "BaseMSRP": "0",
                                    "LegislativeDistrict": "43",
                                    "DOL_VehicleID": "202233958",
                                    "Vehicle_Location": "POINT (-122.300312 47.629782)",
                                    "Electric_Utility": "CITY OF SEATTLE - (WA)|CITY OF TACOMA - (WA)",
                                    "Census2020_Tract": "53033006500"
                                },
                                {
                                    "VIN10": "3MW39FS05R",
                                    "County": "Yakima",
                                    "City": "Zillah",
                                    "State": "WA",
                                    "PostalCode": "98953",
                                    "ModelYear": "2024",
                                    "Make": "BMW",
                                    "Model": "330E",
                                    "EV_Type": "Plug-in Hybrid Electric Vehicle (PHEV)",
                                    "CAFV_Eligibility": "Not eligible due to low battery range",
                                    "ElectricRange": "20",
                                    "BaseMSRP": "0",
                                    "LegislativeDistrict": "15",
                                    "DOL_VehicleID": "264425178",
                                    "Vehicle_Location": "POINT (-120.2658133 46.4063477)",
                                    "Electric_Utility": "PACIFICORP",
                                    "Census2020_Tract": "53077002201"
                                },
                                {
                                    "VIN10": "1N4AZ0CP0F",
                                    "County": "King",
                                    "City": "Kent",
                                    "State": "WA",
                                    "PostalCode": "98031",
                                    "ModelYear": "2015",
                                    "Make": "NISSAN",
                                    "Model": "LEAF",
                                    "EV_Type": "Battery Electric Vehicle (BEV)",
                                    "CAFV_Eligibility": "Clean Alternative Fuel Vehicle Eligible",
                                    "ElectricRange": "84",
                                    "BaseMSRP": "0",
                                    "LegislativeDistrict": "11",
                                    "DOL_VehicleID": "114962025",
                                    "Vehicle_Location": "POINT (-122.201564 47.402358)",
                                    "Electric_Utility": "PUGET SOUND ENERGY INC||CITY OF TACOMA - (WA)",
                                    "Census2020_Tract": "53033029306"
                                }
                            ]
                        },
                        "text/html": [
                            "<table>",
                            "<tr><th>VIN10</th><th>County</th><th>City</th><th>State</th><th>PostalCode</th><th>ModelYear</th><th>Make</th><th>Model</th><th>EV_Type</th><th>CAFV_Eligibility</th><th>ElectricRange</th><th>BaseMSRP</th><th>LegislativeDistrict</th><th>DOL_VehicleID</th><th>Vehicle_Location</th><th>Electric_Utility</th><th>Census2020_Tract</th></tr>",
                            "<tr><td>5YJSA1E22K</td><td>King</td><td>Seattle</td><td>WA</td><td>98112</td><td>2019</td><td>TESLA</td><td>MODEL S</td><td>Battery Electric Vehicle (BEV)</td><td>Clean Alternative Fuel Vehicle Eligible</td><td>270</td><td>0</td><td>43</td><td>202233958</td><td>POINT (-122.300312 47.629782)</td><td>CITY OF SEATTLE - (WA)|CITY OF TACOMA - (WA)</td><td>53033006500</td></tr>",
                            "<tr><td>3MW39FS05R</td><td>Yakima</td><td>Zillah</td><td>WA</td><td>98953</td><td>2024</td><td>BMW</td><td>330E</td><td>Plug-in Hybrid Electric Vehicle (PHEV)</td><td>Not eligible due to low battery range</td><td>20</td><td>0</td><td>15</td><td>264425178</td><td>POINT (-120.2658133 46.4063477)</td><td>PACIFICORP</td><td>53077002201</td></tr>",
                            "<tr><td>1N4AZ0CP0F</td><td>King</td><td>Kent</td><td>WA</td><td>98031</td><td>2015</td><td>NISSAN</td><td>LEAF</td><td>Battery Electric Vehicle (BEV)</td><td>Clean Alternative Fuel Vehicle Eligible</td><td>84</td><td>0</td><td>11</td><td>114962025</td><td>POINT (-122.201564 47.402358)</td><td>PUGET SOUND ENERGY INC||CITY OF TACOMA - (WA)</td><td>53033029306</td></tr>",
                            "</table>"
                        ]
                    }
                }
            ],
            "execution_count": 1
        }
    ]
}